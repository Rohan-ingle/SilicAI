{
 "cells": [
  {
   "cell_type": "code",
   "execution_count": 5,
   "metadata": {},
   "outputs": [],
   "source": [
    "import sqlite3\n",
    "\n",
    "# SQLite database file path\n",
    "DATABASE_URL = \"./chat_history.db\"\n",
    "\n",
    "# Function to check the contents of the database\n",
    "def check_database():\n",
    "    # Connect to the SQLite database\n",
    "    conn = sqlite3.connect(DATABASE_URL)\n",
    "    cursor = conn.cursor()\n",
    "    \n",
    "    try:\n",
    "        # Fetch all users from the \"users\" table\n",
    "        cursor.execute(\"SELECT * FROM users\")\n",
    "        users = cursor.fetchall()\n",
    "        print(\"Users in the database:\")\n",
    "        for user in users:\n",
    "            print(f\"ID: {user[0]}, Username: {user[1]}\")\n",
    "\n",
    "        print(\"\\nChat History:\")\n",
    "        # Fetch all chat history from the \"chat_history\" table\n",
    "        cursor.execute(\"SELECT * FROM chat_history\")\n",
    "        chat_history = cursor.fetchall()\n",
    "        for chat in chat_history:\n",
    "            print(f\"User ID: {chat[1]}, User Query: {chat[2]}, Bot Response: {chat[3]}, Defect Type: {chat[4]}\")\n",
    "\n",
    "    except Exception as e:\n",
    "        print(f\"Error occurred: {e}\")\n",
    "    \n",
    "    finally:\n",
    "        # Close the connection\n",
    "        conn.close()\n"
   ]
  },
  {
   "cell_type": "code",
   "execution_count": 6,
   "metadata": {},
   "outputs": [
    {
     "name": "stdout",
     "output_type": "stream",
     "text": [
      "Users in the database:\n",
      "ID: 1, Username: 1\n",
      "ID: 2, Username: 2\n",
      "ID: 3, Username: 3\n",
      "\n",
      "Chat History:\n",
      "User ID: 1, User Query: hi, Bot Response: , Defect Type: None\n",
      "User ID: 1, User Query: hi, Bot Response: , Defect Type: None\n",
      "User ID: 1, User Query: hi, Bot Response: , Defect Type: None\n",
      "User ID: 1, User Query: hi, Bot Response: , Defect Type: None\n",
      "User ID: 1, User Query: hi, Bot Response: , Defect Type: None\n",
      "User ID: 2, User Query: hi, Bot Response: , Defect Type: None\n",
      "User ID: 2, User Query: what causes this defect?, Bot Response: , Defect Type: [['Center']]\n",
      "User ID: 2, User Query: what causes this defect?, Bot Response: , Defect Type: [['Center']]\n",
      "User ID: 2, User Query: what causes scratch defect?, Bot Response: , Defect Type: [['Center']]\n",
      "User ID: 2, User Query: what is this defect?, Bot Response: , Defect Type: None\n",
      "User ID: 3, User Query: my wafer has scratch defect, Bot Response: , Defect Type: None\n",
      "User ID: 3, User Query: what causes this defect, Bot Response: , Defect Type: None\n",
      "User ID: 3, User Query: what is the reason for this defect?, Bot Response: , Defect Type: [['Donut']]\n"
     ]
    }
   ],
   "source": [
    "check_database()"
   ]
  }
 ],
 "metadata": {
  "kernelspec": {
   "display_name": "Python 3",
   "language": "python",
   "name": "python3"
  },
  "language_info": {
   "codemirror_mode": {
    "name": "ipython",
    "version": 3
   },
   "file_extension": ".py",
   "mimetype": "text/x-python",
   "name": "python",
   "nbconvert_exporter": "python",
   "pygments_lexer": "ipython3",
   "version": "3.10.6"
  }
 },
 "nbformat": 4,
 "nbformat_minor": 2
}
